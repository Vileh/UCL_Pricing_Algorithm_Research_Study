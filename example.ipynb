{
 "cells": [
  {
   "cell_type": "code",
   "execution_count": 10,
   "metadata": {},
   "outputs": [],
   "source": [
    "import numpy as np\n",
    "import pandas as pd\n",
    "import model"
   ]
  },
  {
   "cell_type": "code",
   "execution_count": 11,
   "metadata": {},
   "outputs": [],
   "source": [
    "# Load data\n",
    "data = pd.read_csv('data/output_data.csv')\n",
    "\n",
    "# Preprocess data\n",
    "processed_data = model.process_training_data(data)\n",
    "\n",
    "# Train model\n",
    "regs = model.train_model(processed_data)"
   ]
  },
  {
   "cell_type": "code",
   "execution_count": 14,
   "metadata": {},
   "outputs": [
    {
     "data": {
      "text/plain": [
       "array([7.72598277, 8.10040156, 8.10679455, 8.04409269, 6.84366489,\n",
       "       6.76473483, 7.7680364 , 7.87491817, 8.0691522 , 8.1297005 ,\n",
       "       7.94451598])"
      ]
     },
     "execution_count": 14,
     "metadata": {},
     "output_type": "execute_result"
    }
   ],
   "source": [
    "# Test model\n",
    "testing_data = data.copy()\n",
    "testing_data = testing_data[['mkt_id','output_own_cost', 'output_X']]\n",
    "\n",
    "# Process testing data\n",
    "testing_data = model.process_testing_data(testing_data)\n",
    "\n",
    "# Predict price\n",
    "model.predict_price(testing_data.loc[0:10], regs)"
   ]
  },
  {
   "cell_type": "code",
   "execution_count": null,
   "metadata": {},
   "outputs": [],
   "source": []
  }
 ],
 "metadata": {
  "kernelspec": {
   "display_name": "scicomp",
   "language": "python",
   "name": "python3"
  },
  "language_info": {
   "codemirror_mode": {
    "name": "ipython",
    "version": 3
   },
   "file_extension": ".py",
   "mimetype": "text/x-python",
   "name": "python",
   "nbconvert_exporter": "python",
   "pygments_lexer": "ipython3",
   "version": "3.9.18"
  }
 },
 "nbformat": 4,
 "nbformat_minor": 2
}
